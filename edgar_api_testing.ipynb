{
 "cells": [
  {
   "cell_type": "markdown",
   "id": "ba76b2e2",
   "metadata": {},
   "source": [
    "# EDGAR API Testing and Analysis\n",
    "This notebook demonstrates how to interact with the SEC's EDGAR API to fetch and analyze company filings."
   ]
  },
  {
   "cell_type": "markdown",
   "id": "925d78eb",
   "metadata": {},
   "source": [
    "## Import Required Libraries\n",
    "We'll import the necessary libraries for API interaction, data manipulation, and testing."
   ]
  },
  {
   "cell_type": "code",
   "execution_count": null,
   "id": "603e3ffa",
   "metadata": {},
   "outputs": [],
   "source": [
    "import requests\n",
    "import pandas as pd\n",
    "import unittest\n",
    "import json\n",
    "from datetime import datetime\n",
    "import logging"
   ]
  },
  {
   "cell_type": "markdown",
   "id": "6b41405f",
   "metadata": {},
   "source": [
    "## Set Up EDGAR API Connection\n",
    "Configure the base URL and required headers for EDGAR API interactions."
   ]
  },
  {
   "cell_type": "code",
   "execution_count": null,
   "id": "57e8fd1f",
   "metadata": {},
   "outputs": [],
   "source": [
    "# EDGAR API Configuration\n",
    "BASE_URL = \"https://data.sec.gov/api/xbrl/companyfacts\"\n",
    "HEADERS = {\n",
    "    \"User-Agent\": \"Your Name your.email@domain.com\",\n",
    "    \"Accept\": \"application/json\"\n",
    "}\n",
    "\n",
    "def create_edgar_session():\n",
    "    session = requests.Session()\n",
    "    session.headers.update(HEADERS)\n",
    "    return session"
   ]
  },
  {
   "cell_type": "markdown",
   "id": "2eb470bb",
   "metadata": {},
   "source": [
    "## Fetch Company Filings\n",
    "Create functions to fetch and handle company filing data from EDGAR."
   ]
  },
  {
   "cell_type": "code",
   "execution_count": null,
   "id": "27af7f4b",
   "metadata": {},
   "outputs": [],
   "source": [
    "def fetch_company_filings(cik, session=None):\n",
    "    \"\"\"\n",
    "    Fetch company filings for a given CIK number\n",
    "    \"\"\"\n",
    "    if session is None:\n",
    "        session = create_edgar_session()\n",
    "    \n",
    "    try:\n",
    "        response = session.get(f\"{BASE_URL}/CIK{cik:010d}\")\n",
    "        response.raise_for_status()\n",
    "        return response.json()\n",
    "    except requests.exceptions.RequestException as e:\n",
    "        logging.error(f\"Error fetching data for CIK {cik}: {str(e)}\")\n",
    "        return None"
   ]
  },
  {
   "cell_type": "markdown",
   "id": "9588fa20",
   "metadata": {},
   "source": [
    "## Parse and Analyze Filing Data\n",
    "Transform the raw filing data into a structured format for analysis."
   ]
  },
  {
   "cell_type": "code",
   "execution_count": null,
   "id": "2b053285",
   "metadata": {},
   "outputs": [],
   "source": [
    "def parse_filing_data(filing_data):\n",
    "    \"\"\"\n",
    "    Parse and structure filing data into a pandas DataFrame\n",
    "    \"\"\"\n",
    "    if not filing_data or 'facts' not in filing_data:\n",
    "        return pd.DataFrame()\n",
    "    \n",
    "    records = []\n",
    "    for concept, data in filing_data['facts'].get('us-gaap', {}).items():\n",
    "        for unit, values in data.get('units', {}).items():\n",
    "            for value in values:\n",
    "                record = {\n",
    "                    'concept': concept,\n",
    "                    'unit': unit,\n",
    "                    'value': value.get('val'),\n",
    "                    'filed_date': value.get('filed'),\n",
    "                    'frame': value.get('frame', '')\n",
    "                }\n",
    "                records.append(record)\n",
    "    \n",
    "    return pd.DataFrame(records)"
   ]
  },
  {
   "cell_type": "markdown",
   "id": "8411046e",
   "metadata": {},
   "source": [
    "## Write Unit Tests for EDGAR API\n",
    "Create unit tests to verify the API functionality."
   ]
  },
  {
   "cell_type": "code",
   "execution_count": null,
   "id": "1af972ea",
   "metadata": {},
   "outputs": [],
   "source": [
    "class TestEDGARAPI(unittest.TestCase):\n",
    "    def setUp(self):\n",
    "        self.session = create_edgar_session()\n",
    "    \n",
    "    def test_api_connection(self):\n",
    "        \"\"\"Test basic API connectivity\"\"\"\n",
    "        # Test with Apple Inc. (CIK: 320193)\n",
    "        response = fetch_company_filings(320193, self.session)\n",
    "        self.assertIsNotNone(response)\n",
    "        self.assertIn('facts', response)\n",
    "    \n",
    "    def test_data_parsing(self):\n",
    "        \"\"\"Test parsing of filing data\"\"\"\n",
    "        sample_data = {\n",
    "            'facts': {\n",
    "                'us-gaap': {\n",
    "                    'Revenue': {\n",
    "                        'units': {\n",
    "                            'USD': [\n",
    "                                {'val': 1000, 'filed': '2023-01-01', 'frame': '2023Q1'}\n",
    "                            ]\n",
    "                        }\n",
    "                    }\n",
    "                }\n",
    "            }\n",
    "        }\n",
    "        df = parse_filing_data(sample_data)\n",
    "        self.assertFalse(df.empty)\n",
    "        self.assertEqual(len(df), 1)\n",
    "\n",
    "if __name__ == '__main__':\n",
    "    unittest.main(argv=['ignored', '-v'])"
   ]
  }
 ],
 "metadata": {
  "language_info": {
   "name": "python"
  }
 },
 "nbformat": 4,
 "nbformat_minor": 5
}
